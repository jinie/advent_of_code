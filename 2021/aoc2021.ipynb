{
 "cells": [
  {
   "cell_type": "code",
   "execution_count": 15,
   "metadata": {},
   "outputs": [],
   "source": [
    "def get_input(fname: str, astype=str):\n",
    "    with open(fname,\"rt\") as f:\n",
    "        return [astype(l.strip().rstrip()) for l in f.readlines()]\n",
    "\n",
    "def tokenize(input: str, delim: str):\n",
    "    return [l.split(delim) for l in input]"
   ]
  },
  {
   "cell_type": "code",
   "execution_count": 18,
   "metadata": {},
   "outputs": [
    {
     "name": "stdout",
     "output_type": "stream",
     "text": [
      "1288\n",
      "1311\n"
     ]
    }
   ],
   "source": [
    "def day1_part1(input):   \n",
    "    return sum([1 for i in range(1,len(input)) if(input[i] > input[i-1])])\n",
    "\n",
    "def day1_part2(input):\n",
    "    return sum([1 for i in range(0,len(input)-3) if sum(input[i+1:i+4]) > sum(input[i:i+3])])\n",
    "\n",
    "input = get_input(\"day01.txt\",astype=int)\n",
    "print(day1_part1(input))\n",
    "print(day1_part2(input))\n"
   ]
  }
 ],
 "metadata": {
  "interpreter": {
   "hash": "2201a14f2daf9868b1600aa09c4b53919129a190d32a116c11d443481e848c70"
  },
  "kernelspec": {
   "display_name": "Python 3.9.6 64-bit ('notebook': virtualenv)",
   "language": "python",
   "name": "python3"
  },
  "language_info": {
   "codemirror_mode": {
    "name": "ipython",
    "version": 3
   },
   "file_extension": ".py",
   "mimetype": "text/x-python",
   "name": "python",
   "nbconvert_exporter": "python",
   "pygments_lexer": "ipython3",
   "version": "3.9.6"
  },
  "orig_nbformat": 4
 },
 "nbformat": 4,
 "nbformat_minor": 2
}
